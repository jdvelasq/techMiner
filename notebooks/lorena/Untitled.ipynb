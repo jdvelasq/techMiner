{
 "cells": [
  {
   "cell_type": "code",
   "execution_count": null,
   "id": "4896a910-6d66-4aca-9d47-7e69854b9b4d",
   "metadata": {},
   "outputs": [],
   "source": [
    "from techminer.app import App\n",
    "\n",
    "App().run()"
   ]
  },
  {
   "cell_type": "code",
   "execution_count": 1,
   "id": "e67b8a31-de12-4a07-ad2a-513dc8b8295d",
   "metadata": {},
   "outputs": [
    {
     "data": {
      "application/vnd.jupyter.widget-view+json": {
       "model_id": "3ae316ee4f324e5bbfd799d1c4473a53",
       "version_major": 2,
       "version_minor": 0
      },
      "text/plain": [
       "GridspecLayout(children=(VBox(children=(HTML(value='<b>Display:</b>', layout=Layout(margin='0px, 0px, 0px, 5px…"
      ]
     },
     "metadata": {},
     "output_type": "display_data"
    }
   ],
   "source": [
    "import techminer as tech\n",
    "\n",
    "tech.gui.collaboration_analysis.App().run()"
   ]
  },
  {
   "cell_type": "code",
   "execution_count": null,
   "id": "be0ef748-5c4d-4b4d-b9b6-ee0ff3737720",
   "metadata": {},
   "outputs": [],
   "source": [
    "!ls\n"
   ]
  },
  {
   "cell_type": "code",
   "execution_count": null,
   "id": "313d64c2-92be-4c7d-bffa-f6cd92945c4a",
   "metadata": {},
   "outputs": [],
   "source": [
    "import pandas as pd\n",
    "\n",
    "sorted(pd.read_csv(\"corpus.csv\").Bradford_Law_Zone)"
   ]
  },
  {
   "cell_type": "code",
   "execution_count": null,
   "id": "a983e9f8-ddd2-4ec7-8778-e47c93c98b33",
   "metadata": {},
   "outputs": [],
   "source": []
  }
 ],
 "metadata": {
  "kernelspec": {
   "display_name": "Python 3 (ipykernel)",
   "language": "python",
   "name": "python3"
  },
  "language_info": {
   "codemirror_mode": {
    "name": "ipython",
    "version": 3
   },
   "file_extension": ".py",
   "mimetype": "text/x-python",
   "name": "python",
   "nbconvert_exporter": "python",
   "pygments_lexer": "ipython3",
   "version": "3.7.12"
  }
 },
 "nbformat": 4,
 "nbformat_minor": 5
}
